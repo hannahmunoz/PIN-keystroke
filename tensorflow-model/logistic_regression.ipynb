{
 "cells": [
  {
   "cell_type": "code",
   "execution_count": 2,
   "metadata": {
    "collapsed": true
   },
   "outputs": [],
   "source": [
    "# Logistic regression learning algorithm using TensorFlow library.\n",
    "# Base example from Aymeric Damien, https://github.com/aymericdamien/TensorFlow-Examples/\n",
    "\n",
    "# Currently a loose idea of what we need to make a model for \n",
    "# Still need to read in data\n",
    "# MNIST data kept in comments just in case we need to retest something"
   ]
  },
  {
   "cell_type": "code",
   "execution_count": 3,
   "metadata": {
    "collapsed": false
   },
   "outputs": [],
   "source": [
    "import tensorflow as tf\n",
    "import numpy as np\n",
    "import json\n",
    "\n",
    "#from tensorflow.examples.tutorials.mnist import input_data\n",
    "#mnist = input_data.read_data_sets(\"MNIST_data/\", one_hot=True)"
   ]
  },
  {
   "cell_type": "code",
   "execution_count": 7,
   "metadata": {
    "collapsed": false
   },
   "outputs": [
    {
     "name": "stdout",
     "output_type": "stream",
     "text": [
      "-\n",
      "-\n",
      "-\n",
      "-\n",
      "-\n",
      "{'y': [1, 1, 1, 1, 1], 'x': [[2335735806, 24908440, 2476011393, 7975573, 2752102045, 10305678, 3181784484, 7249375, 3648384113], [5180899943, 15956616, 5333830167, 8224324, 5530919926, 20186304, 5656273116, 16695262, 5810413496], [7061145235, 7797344, 7183556809, 16724377, 7379243548, 21169793, 7500083716, 16005158, 7740718792], [8827760202, 12485002, 8957743340, 19065731, 9132513358, 11136980, 9266985090, 8869324, 10109808559], [11192630178, 14136928, 11314549929, 10091408, 11501644531, 9177241, 11611737303, 14649480, 11760057005]]}\n"
     ]
    }
   ],
   "source": [
    "# read in data from chosen file\n",
    "fp = open(\"7394-output.txt\", \"r\")\n",
    "j = json.load(fp)\n",
    "\n",
    "data = []\n",
    "labels = []\n",
    "# correct user is specified for which labels will be marked as '1'\n",
    "correctUser = \"hannah\"\n",
    "\n",
    "# after file is open put the json data into lists for training\n",
    "for user in j:\n",
    "    if user == correctUser:\n",
    "        for attempt in j[user]:\n",
    "            templist = []\n",
    "            for key in attempt[\"Keys\"]:\n",
    "                templist.append(key[\"Fight\"])\n",
    "                templist.append(key[\"Dwell\"])\n",
    "            templist.append(attempt[\"Metadata\"][0][\"Total Time\"])\n",
    "            print \"-\"\n",
    "            data.append(templist)\n",
    "            labels.append(1)\n",
    "    else:\n",
    "        for attempt in j[user]:\n",
    "            templist = []\n",
    "            for key in attempt[\"Keys\"]:\n",
    "                templist.append(key[\"Fight\"])\n",
    "                templist.append(key[\"Dwell\"])\n",
    "            templist.append(attempt[\"Metadata\"][0][\"Total Time\"])\n",
    "            print \"-\"\n",
    "            data.append(templist)\n",
    "            labels.append(0)\n"
   ]
  },
  {
   "cell_type": "code",
   "execution_count": 12,
   "metadata": {
    "collapsed": false
   },
   "outputs": [],
   "source": [
    "# Parameters\n",
    "learning_rate = 0.01\n",
    "training_runs = 100\n",
    "\n",
    "\n",
    "# tf Graph Input example from MNIST\n",
    "#x = tf.placeholder(tf.float32, [None, 784]) # mnist data image of shape 28*28=784\n",
    "#y = tf.placeholder(tf.float32, [None, 10]) # 0-9 digits recognition => 10 classes\n",
    "\n",
    "# tf Graph Input for PIN\n",
    "x = tf.placeholder(tf.float32, [None, 9]) # each entry has \n",
    "y = tf.placeholder(tf.float32) # 1 float number should be the output\n",
    "\n",
    "# Set model weights\n",
    "W1 = tf.Variable(tf.zeros([9, 1]))\n",
    "b1 = tf.Variable(tf.zeros([1]))\n",
    "\n",
    "#W2 = tf.Variable(tf.zeros([100, 1]))\n",
    "#b2 = tf.Variable(tf.zeros([1]))\n",
    "\n",
    "# Construct model\n",
    "# pred = tf.nn.softmax(tf.matmul(x, W) + b)\n",
    "pred = tf.nn.sigmoid(tf.matmul(x, W1) + b1)\n",
    "\n",
    "# Minimize error using cross entropy\n",
    "cost = tf.reduce_mean(-tf.reduce_sum(y*tf.log(pred), reduction_indices=1))\n",
    "\n",
    "# Gradient Descent\n",
    "optimizer = tf.train.GradientDescentOptimizer(learning_rate).minimize(cost)\n",
    "\n",
    "# Initializing the variables\n",
    "init = tf.global_variables_initializer()"
   ]
  },
  {
   "cell_type": "code",
   "execution_count": 13,
   "metadata": {
    "collapsed": false
   },
   "outputs": [
    {
     "name": "stdout",
     "output_type": "stream",
     "text": [
      "3.46574\n",
      "0.0\n",
      "0.0\n",
      "0.0\n",
      "0.0\n",
      "0.0\n",
      "0.0\n",
      "0.0\n",
      "0.0\n",
      "0.0\n",
      "All done!\n"
     ]
    }
   ],
   "source": [
    "sess=tf.InteractiveSession()\n",
    "tf.global_variables_initializer().run()\n",
    "\n",
    "# Training cycle\n",
    "for i in range(training_runs):\n",
    "    avg_cost = 0.\n",
    "    # Fit training using json data\n",
    "    _, error = sess.run([optimizer, cost], {x:data, y:labels})\n",
    "    # Print error every once and a while to see whats going on\n",
    "    if (i % 10) == 0:\n",
    "        print error\n",
    "\n",
    "print \"All done!\""
   ]
  },
  {
   "cell_type": "code",
   "execution_count": 4,
   "metadata": {
    "collapsed": false
   },
   "outputs": [
    {
     "name": "stdout",
     "output_type": "stream",
     "text": [
      "Epoch: 0001 cost= 1.182138965\n",
      "Epoch: 0002 cost= 0.664687969\n",
      "Epoch: 0003 cost= 0.552565480\n",
      "Epoch: 0004 cost= 0.498533300\n",
      "Epoch: 0005 cost= 0.465399058\n",
      "Epoch: 0006 cost= 0.442468995\n",
      "Epoch: 0007 cost= 0.425483971\n",
      "Epoch: 0008 cost= 0.412169584\n",
      "Epoch: 0009 cost= 0.401382318\n",
      "Epoch: 0010 cost= 0.392374269\n",
      "Epoch: 0011 cost= 0.384712011\n",
      "Epoch: 0012 cost= 0.378156446\n",
      "Epoch: 0013 cost= 0.372390550\n",
      "Epoch: 0014 cost= 0.367256927\n",
      "Epoch: 0015 cost= 0.362728040\n",
      "Epoch: 0016 cost= 0.358619287\n",
      "Epoch: 0017 cost= 0.354831088\n",
      "Epoch: 0018 cost= 0.351446408\n",
      "Epoch: 0019 cost= 0.348331189\n",
      "Epoch: 0020 cost= 0.345433719\n",
      "Epoch: 0021 cost= 0.342733518\n",
      "Epoch: 0022 cost= 0.340198797\n",
      "Epoch: 0023 cost= 0.337943932\n",
      "Epoch: 0024 cost= 0.335767178\n",
      "Epoch: 0025 cost= 0.333671947\n",
      "Optimization Finished!\n",
      "Accuracy: 0.888333\n"
     ]
    }
   ],
   "source": [
    "# Launch the graph\n",
    "# not using, this is just a reference\n",
    "with tf.Session() as sess:\n",
    "    sess.run(init)\n",
    "\n",
    "    # Training cycle\n",
    "    for epoch in range(training_epochs):\n",
    "        avg_cost = 0.\n",
    "        #total_batch = int(mnist.train.num_examples/batch_size)\n",
    "        # Loop over all batches\n",
    "        for i in range(total_batch):\n",
    "            batch_xs, batch_ys = mnist.train.next_batch(batch_size)\n",
    "            # Fit training using batch data\n",
    "            _, c = sess.run([optimizer, cost], feed_dict={x: batch_xs,\n",
    "                                                          y: batch_ys})\n",
    "            # Compute average loss\n",
    "            avg_cost += c / total_batch\n",
    "        # Display logs per epoch step\n",
    "        if (epoch+1) % display_step == 0:\n",
    "            print \"Epoch:\", '%04d' % (epoch+1), \"cost=\", \"{:.9f}\".format(avg_cost)\n",
    "\n",
    "    print \"Optimization Finished!\"\n",
    "\n",
    "    # Test model\n",
    "    correct_prediction = tf.equal(tf.argmax(pred, 1), tf.argmax(y, 1))\n",
    "    # Calculate accuracy for 3000 examples\n",
    "    accuracy = tf.reduce_mean(tf.cast(correct_prediction, tf.float32))\n",
    "    print \"Accuracy:\", accuracy.eval({x: mnist.test.images[:3000], y: mnist.test.labels[:3000]})"
   ]
  },
  {
   "cell_type": "code",
   "execution_count": null,
   "metadata": {
    "collapsed": true
   },
   "outputs": [],
   "source": []
  }
 ],
 "metadata": {
  "kernelspec": {
   "display_name": "Python 2",
   "language": "python",
   "name": "python2"
  },
  "language_info": {
   "codemirror_mode": {
    "name": "ipython",
    "version": 2
   },
   "file_extension": ".py",
   "mimetype": "text/x-python",
   "name": "python",
   "nbconvert_exporter": "python",
   "pygments_lexer": "ipython2",
   "version": "2.7.12"
  }
 },
 "nbformat": 4,
 "nbformat_minor": 0
}
