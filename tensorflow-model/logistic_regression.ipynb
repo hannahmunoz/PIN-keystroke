{
 "cells": [
  {
   "cell_type": "code",
   "execution_count": 1,
   "metadata": {
    "collapsed": true
   },
   "outputs": [],
   "source": [
    "# Logistic regression learning algorithm using TensorFlow library.\n",
    "# Base example from Aymeric Damien, https://github.com/aymericdamien/TensorFlow-Examples/\n",
    "\n",
    "# Currently a loose idea of what we need to make a model for \n",
    "# Still need to read in data\n",
    "# MNIST data kept in comments just in case we need to retest something"
   ]
  },
  {
   "cell_type": "code",
   "execution_count": 2,
   "metadata": {
    "collapsed": false
   },
   "outputs": [
    {
     "name": "stdout",
     "output_type": "stream",
     "text": [
      "Successfully downloaded train-images-idx3-ubyte.gz 9912422 bytes.\n",
      "Extracting MNIST_data/train-images-idx3-ubyte.gz\n",
      "Successfully downloaded train-labels-idx1-ubyte.gz 28881 bytes.\n",
      "Extracting MNIST_data/train-labels-idx1-ubyte.gz\n",
      "Successfully downloaded t10k-images-idx3-ubyte.gz 1648877 bytes.\n",
      "Extracting MNIST_data/t10k-images-idx3-ubyte.gz\n",
      "Successfully downloaded t10k-labels-idx1-ubyte.gz 4542 bytes.\n",
      "Extracting MNIST_data/t10k-labels-idx1-ubyte.gz\n"
     ]
    }
   ],
   "source": [
    "import tensorflow as tf\n",
    "import numpy as np\n",
    "import json\n",
    "\n",
    "#from tensorflow.examples.tutorials.mnist import input_data\n",
    "#mnist = input_data.read_data_sets(\"MNIST_data/\", one_hot=True)"
   ]
  },
  {
   "cell_type": "code",
   "execution_count": null,
   "metadata": {
    "collapsed": true
   },
   "outputs": [],
   "source": [
    "# read in data\n",
    "data = {}"
   ]
  },
  {
   "cell_type": "code",
   "execution_count": 3,
   "metadata": {
    "collapsed": false
   },
   "outputs": [],
   "source": [
    "# Parameters\n",
    "learning_rate = 0.01\n",
    "training_epochs = 25\n",
    "batch_size = 100\n",
    "display_step = 1\n",
    "\n",
    "# tf Graph Input example from MNIST\n",
    "#x = tf.placeholder(tf.float32, [None, 784]) # mnist data image of shape 28*28=784\n",
    "#y = tf.placeholder(tf.float32, [None, 10]) # 0-9 digits recognition => 10 classes\n",
    "\n",
    "# tf Graph Input for PIN\n",
    "x = tf.placeholder(tf.float32, [None, 9]) # each entry has \n",
    "y = tf.placeholder(tf.float32) # 1 float number should be the output\n",
    "\n",
    "# Set model weights\n",
    "W1 = tf.Variable(tf.zeros([9, 1]))\n",
    "b1 = tf.Variable(tf.zeros([1]))\n",
    "\n",
    "#W2 = tf.Variable(tf.zeros([100, 1]))\n",
    "#b2 = tf.Variable(tf.zeros([1]))\n",
    "\n",
    "# Construct model\n",
    "# pred = tf.nn.softmax(tf.matmul(x, W) + b)\n",
    "pred = tf.nn.sigmoid(tf.matmul(x, W1) + b1)\n",
    "\n",
    "# Minimize error using cross entropy\n",
    "cost = tf.reduce_mean(-tf.reduce_sum(y*tf.log(pred), reduction_indices=1))\n",
    "\n",
    "# Gradient Descent\n",
    "optimizer = tf.train.GradientDescentOptimizer(learning_rate).minimize(cost)\n",
    "\n",
    "# Initializing the variables\n",
    "init = tf.global_variables_initializer()"
   ]
  },
  {
   "cell_type": "code",
   "execution_count": null,
   "metadata": {
    "collapsed": true
   },
   "outputs": [],
   "source": [
    "sess=tf.InteractiveSession()\n",
    "tf.global_variables_initializer().run()\n",
    "\n",
    "# Training cycle\n",
    "for epoch in range(training_epochs):\n",
    "    avg_cost = 0.\n",
    "    #total_batch = int(mnist.train.num_examples/batch_size)\n",
    "    # Loop over all batches\n",
    "    for i in range(total_batch):\n",
    "        batch_xs, batch_ys = mnist.train.next_batch(batch_size)\n",
    "        # Fit training using batch data\n",
    "        _, c = sess.run([optimizer, cost], feed_dict={x: batch_xs,\n",
    "                                                      y: batch_ys})\n",
    "        # Compute average loss\n",
    "        avg_cost += c / total_batch\n",
    "    # Display logs per epoch step\n",
    "    if (epoch+1) % display_step == 0:\n",
    "        print \"Epoch:\", '%04d' % (epoch+1), \"cost=\", \"{:.9f}\".format(avg_cost)"
   ]
  },
  {
   "cell_type": "code",
   "execution_count": 4,
   "metadata": {
    "collapsed": false
   },
   "outputs": [
    {
     "name": "stdout",
     "output_type": "stream",
     "text": [
      "Epoch: 0001 cost= 1.182138965\n",
      "Epoch: 0002 cost= 0.664687969\n",
      "Epoch: 0003 cost= 0.552565480\n",
      "Epoch: 0004 cost= 0.498533300\n",
      "Epoch: 0005 cost= 0.465399058\n",
      "Epoch: 0006 cost= 0.442468995\n",
      "Epoch: 0007 cost= 0.425483971\n",
      "Epoch: 0008 cost= 0.412169584\n",
      "Epoch: 0009 cost= 0.401382318\n",
      "Epoch: 0010 cost= 0.392374269\n",
      "Epoch: 0011 cost= 0.384712011\n",
      "Epoch: 0012 cost= 0.378156446\n",
      "Epoch: 0013 cost= 0.372390550\n",
      "Epoch: 0014 cost= 0.367256927\n",
      "Epoch: 0015 cost= 0.362728040\n",
      "Epoch: 0016 cost= 0.358619287\n",
      "Epoch: 0017 cost= 0.354831088\n",
      "Epoch: 0018 cost= 0.351446408\n",
      "Epoch: 0019 cost= 0.348331189\n",
      "Epoch: 0020 cost= 0.345433719\n",
      "Epoch: 0021 cost= 0.342733518\n",
      "Epoch: 0022 cost= 0.340198797\n",
      "Epoch: 0023 cost= 0.337943932\n",
      "Epoch: 0024 cost= 0.335767178\n",
      "Epoch: 0025 cost= 0.333671947\n",
      "Optimization Finished!\n",
      "Accuracy: 0.888333\n"
     ]
    }
   ],
   "source": [
    "# Launch the graph\n",
    "with tf.Session() as sess:\n",
    "    sess.run(init)\n",
    "\n",
    "    # Training cycle\n",
    "    for epoch in range(training_epochs):\n",
    "        avg_cost = 0.\n",
    "        #total_batch = int(mnist.train.num_examples/batch_size)\n",
    "        # Loop over all batches\n",
    "        for i in range(total_batch):\n",
    "            batch_xs, batch_ys = mnist.train.next_batch(batch_size)\n",
    "            # Fit training using batch data\n",
    "            _, c = sess.run([optimizer, cost], feed_dict={x: batch_xs,\n",
    "                                                          y: batch_ys})\n",
    "            # Compute average loss\n",
    "            avg_cost += c / total_batch\n",
    "        # Display logs per epoch step\n",
    "        if (epoch+1) % display_step == 0:\n",
    "            print \"Epoch:\", '%04d' % (epoch+1), \"cost=\", \"{:.9f}\".format(avg_cost)\n",
    "\n",
    "    print \"Optimization Finished!\"\n",
    "\n",
    "    # Test model\n",
    "    correct_prediction = tf.equal(tf.argmax(pred, 1), tf.argmax(y, 1))\n",
    "    # Calculate accuracy for 3000 examples\n",
    "    accuracy = tf.reduce_mean(tf.cast(correct_prediction, tf.float32))\n",
    "    print \"Accuracy:\", accuracy.eval({x: mnist.test.images[:3000], y: mnist.test.labels[:3000]})"
   ]
  },
  {
   "cell_type": "code",
   "execution_count": null,
   "metadata": {
    "collapsed": true
   },
   "outputs": [],
   "source": []
  }
 ],
 "metadata": {
  "kernelspec": {
   "display_name": "Python 2",
   "language": "python",
   "name": "python2"
  },
  "language_info": {
   "codemirror_mode": {
    "name": "ipython",
    "version": 2
   },
   "file_extension": ".py",
   "mimetype": "text/x-python",
   "name": "python",
   "nbconvert_exporter": "python",
   "pygments_lexer": "ipython2",
   "version": "2.7.12"
  }
 },
 "nbformat": 4,
 "nbformat_minor": 0
}
